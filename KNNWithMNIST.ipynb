{
 "cells": [
  {
   "cell_type": "code",
   "execution_count": 3,
   "metadata": {},
   "outputs": [
    {
     "ename": "FileNotFoundError",
     "evalue": "[Errno 2] No such file or directory: '../MNIST/t10k-labels-idx1-ubyte'",
     "output_type": "error",
     "traceback": [
      "\u001b[0;31m---------------------------------------------------------------------------\u001b[0m",
      "\u001b[0;31mFileNotFoundError\u001b[0m                         Traceback (most recent call last)",
      "\u001b[1;32m/Users/minhbui/Documents/GitHub/Basic_Machine_Learning/KNNWithMNIST.ipynb Cell 1\u001b[0m line \u001b[0;36m1\n\u001b[1;32m     <a href='vscode-notebook-cell:/Users/minhbui/Documents/GitHub/Basic_Machine_Learning/KNNWithMNIST.ipynb#W0sZmlsZQ%3D%3D?line=10'>11</a>\u001b[0m \u001b[39m# you need to download the MNIST dataset first\u001b[39;00m\n\u001b[1;32m     <a href='vscode-notebook-cell:/Users/minhbui/Documents/GitHub/Basic_Machine_Learning/KNNWithMNIST.ipynb#W0sZmlsZQ%3D%3D?line=11'>12</a>\u001b[0m \u001b[39m# at: http://yann.lecun.com/exdb/mnist/\u001b[39;00m\n\u001b[1;32m     <a href='vscode-notebook-cell:/Users/minhbui/Documents/GitHub/Basic_Machine_Learning/KNNWithMNIST.ipynb#W0sZmlsZQ%3D%3D?line=12'>13</a>\u001b[0m mndata \u001b[39m=\u001b[39m MNIST(\u001b[39m'\u001b[39m\u001b[39m../MNIST/\u001b[39m\u001b[39m'\u001b[39m) \u001b[39m# path to your MNIST folder \u001b[39;00m\n\u001b[0;32m---> <a href='vscode-notebook-cell:/Users/minhbui/Documents/GitHub/Basic_Machine_Learning/KNNWithMNIST.ipynb#W0sZmlsZQ%3D%3D?line=13'>14</a>\u001b[0m mndata\u001b[39m.\u001b[39mload_testing()\n\u001b[1;32m     <a href='vscode-notebook-cell:/Users/minhbui/Documents/GitHub/Basic_Machine_Learning/KNNWithMNIST.ipynb#W0sZmlsZQ%3D%3D?line=14'>15</a>\u001b[0m mndata\u001b[39m.\u001b[39mload_training()\n\u001b[1;32m     <a href='vscode-notebook-cell:/Users/minhbui/Documents/GitHub/Basic_Machine_Learning/KNNWithMNIST.ipynb#W0sZmlsZQ%3D%3D?line=15'>16</a>\u001b[0m X_test \u001b[39m=\u001b[39m mndata\u001b[39m.\u001b[39mtest_images\n",
      "File \u001b[0;32m/opt/anaconda3/lib/python3.12/site-packages/mnist/loader.py:116\u001b[0m, in \u001b[0;36mMNIST.load_testing\u001b[0;34m(self)\u001b[0m\n\u001b[1;32m    115\u001b[0m \u001b[39mdef\u001b[39;00m \u001b[39mload_testing\u001b[39m(\u001b[39mself\u001b[39m):\n\u001b[0;32m--> 116\u001b[0m     ims, labels \u001b[39m=\u001b[39m \u001b[39mself\u001b[39m\u001b[39m.\u001b[39mload(os\u001b[39m.\u001b[39mpath\u001b[39m.\u001b[39mjoin(\u001b[39mself\u001b[39m\u001b[39m.\u001b[39mpath, \u001b[39mself\u001b[39m\u001b[39m.\u001b[39mtest_img_fname),\n\u001b[1;32m    117\u001b[0m                             os\u001b[39m.\u001b[39mpath\u001b[39m.\u001b[39mjoin(\u001b[39mself\u001b[39m\u001b[39m.\u001b[39mpath, \u001b[39mself\u001b[39m\u001b[39m.\u001b[39mtest_lbl_fname))\n\u001b[1;32m    119\u001b[0m     \u001b[39mself\u001b[39m\u001b[39m.\u001b[39mtest_images \u001b[39m=\u001b[39m \u001b[39mself\u001b[39m\u001b[39m.\u001b[39mprocess_images(ims)\n\u001b[1;32m    120\u001b[0m     \u001b[39mself\u001b[39m\u001b[39m.\u001b[39mtest_labels \u001b[39m=\u001b[39m \u001b[39mself\u001b[39m\u001b[39m.\u001b[39mprocess_labels(labels)\n",
      "File \u001b[0;32m/opt/anaconda3/lib/python3.12/site-packages/mnist/loader.py:247\u001b[0m, in \u001b[0;36mMNIST.load\u001b[0;34m(self, path_img, path_lbl, batch)\u001b[0m\n\u001b[1;32m    243\u001b[0m     \u001b[39mif\u001b[39;00m \u001b[39mtype\u001b[39m(batch) \u001b[39mis\u001b[39;00m \u001b[39mnot\u001b[39;00m \u001b[39mlist\u001b[39m \u001b[39mor\u001b[39;00m \u001b[39mlen\u001b[39m(batch) \u001b[39mis\u001b[39;00m \u001b[39mnot\u001b[39;00m \u001b[39m2\u001b[39m:\n\u001b[1;32m    244\u001b[0m         \u001b[39mraise\u001b[39;00m \u001b[39mValueError\u001b[39;00m(\u001b[39m'\u001b[39m\u001b[39mbatch should be a 1-D list\u001b[39m\u001b[39m'\u001b[39m\n\u001b[1;32m    245\u001b[0m                          \u001b[39m'\u001b[39m\u001b[39m(start_point, batch_size)\u001b[39m\u001b[39m'\u001b[39m)\n\u001b[0;32m--> 247\u001b[0m \u001b[39mwith\u001b[39;00m \u001b[39mself\u001b[39m\u001b[39m.\u001b[39mopener(path_lbl, \u001b[39m'\u001b[39m\u001b[39mrb\u001b[39m\u001b[39m'\u001b[39m) \u001b[39mas\u001b[39;00m file:\n\u001b[1;32m    248\u001b[0m     magic, size \u001b[39m=\u001b[39m struct\u001b[39m.\u001b[39munpack(\u001b[39m\"\u001b[39m\u001b[39m>II\u001b[39m\u001b[39m\"\u001b[39m, file\u001b[39m.\u001b[39mread(\u001b[39m8\u001b[39m))\n\u001b[1;32m    249\u001b[0m     \u001b[39mif\u001b[39;00m magic \u001b[39m!=\u001b[39m \u001b[39m2049\u001b[39m:\n",
      "File \u001b[0;32m/opt/anaconda3/lib/python3.12/site-packages/mnist/loader.py:239\u001b[0m, in \u001b[0;36mMNIST.opener\u001b[0;34m(self, path_fn, *args, **kwargs)\u001b[0m\n\u001b[1;32m    237\u001b[0m     \u001b[39mreturn\u001b[39;00m gzip\u001b[39m.\u001b[39mopen(path_fn \u001b[39m+\u001b[39m \u001b[39m'\u001b[39m\u001b[39m.gz\u001b[39m\u001b[39m'\u001b[39m, \u001b[39m*\u001b[39margs, \u001b[39m*\u001b[39m\u001b[39m*\u001b[39mkwargs)\n\u001b[1;32m    238\u001b[0m \u001b[39melse\u001b[39;00m:\n\u001b[0;32m--> 239\u001b[0m     \u001b[39mreturn\u001b[39;00m \u001b[39mopen\u001b[39m(path_fn, \u001b[39m*\u001b[39margs, \u001b[39m*\u001b[39m\u001b[39m*\u001b[39mkwargs)\n",
      "\u001b[0;31mFileNotFoundError\u001b[0m: [Errno 2] No such file or directory: '../MNIST/t10k-labels-idx1-ubyte'"
     ]
    }
   ],
   "source": [
    "# %reset\n",
    "import numpy as np \n",
    "from mnist import MNIST # require `pip install python-mnist`\n",
    "# https://pypi.python.org/pypi/python-mnist/\n",
    "\n",
    "import matplotlib.pyplot as plt\n",
    "from sklearn import neighbors\n",
    "from sklearn.metrics import accuracy_score\n",
    "import time\n",
    "\n",
    "# you need to download the MNIST dataset first\n",
    "# at: http://yann.lecun.com/exdb/mnist/\n",
    "mndata = MNIST('../MNIST/') # path to your MNIST folder \n",
    "mndata.load_testing()\n",
    "mndata.load_training()\n",
    "X_test = mndata.test_images\n",
    "X_train = mndata.train_images\n",
    "y_test = np.asarray(mndata.test_labels)\n",
    "y_train = np.asarray(mndata.train_labels)\n",
    "\n",
    "\n",
    "start_time = time.time()\n",
    "clf = neighbors.KNeighborsClassifier(n_neighbors = 1, p = 2)\n",
    "clf.fit(X_train, y_train)\n",
    "y_pred = clf.predict(X_test)\n",
    "end_time = time.time()\n",
    "print (\"Accuracy of 1NN for MNIST: %.2f %%\" %(100*accuracy_score(y_test, y_pred)))\n",
    "print (\"Running time: %.2f (s)\" % (end_time - start_time))"
   ]
  }
 ],
 "metadata": {
  "kernelspec": {
   "display_name": "base",
   "language": "python",
   "name": "python3"
  },
  "language_info": {
   "codemirror_mode": {
    "name": "ipython",
    "version": 3
   },
   "file_extension": ".py",
   "mimetype": "text/x-python",
   "name": "python",
   "nbconvert_exporter": "python",
   "pygments_lexer": "ipython3",
   "version": "3.12.2"
  },
  "orig_nbformat": 4
 },
 "nbformat": 4,
 "nbformat_minor": 2
}
